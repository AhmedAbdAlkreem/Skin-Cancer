{
 "cells": [
  {
   "cell_type": "code",
   "execution_count": 6,
   "id": "bf5137d3",
   "metadata": {},
   "outputs": [
    {
     "name": "stdout",
     "output_type": "stream",
     "text": [
      " * Serving Flask app '__main__'\n",
      " * Debug mode: off\n"
     ]
    },
    {
     "name": "stderr",
     "output_type": "stream",
     "text": [
      "WARNING: This is a development server. Do not use it in a production deployment. Use a production WSGI server instead.\n",
      " * Running on http://127.0.0.1:5000\n",
      "Press CTRL+C to quit\n"
     ]
    }
   ],
   "source": [
    "from flask import Flask, request, render_template, url_for, jsonify\n",
    "from tensorflow.keras.models import load_model\n",
    "from PIL import Image\n",
    "import numpy as np\n",
    "\n",
    "app = Flask(__name__)\n",
    "\n",
    "def preprossing(image):\n",
    "    image=Image.open(image)\n",
    "    image = image.resize((150, 150))\n",
    "    image_arr = np.array(image.convert('RGB'))\n",
    "    image_arr.shape = (1, 150, 150, 3)\n",
    "    return image_arr\n",
    "\n",
    "classes = ['Benign' ,'Melgnent']\n",
    "model = load_model(\"Intel_Image_Classification.h5\")\n",
    "\n",
    "@app.route('/')\n",
    "def index():\n",
    "\n",
    "    return render_template('index.html', appName=\"Intel Image Classification\")\n",
    "\n",
    "\n",
    "@app.route('/predictApi', methods=[\"POST\"])\n",
    "def api():\n",
    "    # Get the image from post request\n",
    "    try:\n",
    "        if 'fileup' not in request.files:\n",
    "            return \"Please try again. The Image doesn't exist\"\n",
    "        image = request.files.get('fileup')\n",
    "        image_arr = preprossing(image)\n",
    "        print(\"Model predicting ...\")\n",
    "        result = model.predict(image_arr)\n",
    "        print(\"Model predicted\")\n",
    "        ind = np.argmax(result)\n",
    "        prediction = classes[ind]\n",
    "        print(prediction)\n",
    "        return jsonify({'prediction': prediction})\n",
    "    except:\n",
    "        return jsonify({'Error': 'Error occur'})\n",
    "\n",
    "\n",
    "@app.route('/predict', methods=['GET', 'POST'])\n",
    "def predict():\n",
    "    print(\"run code\")\n",
    "    if request.method == 'POST':\n",
    "        # Get the image from post request\n",
    "        print(\"image loading....\")\n",
    "        image = request.files['fileup']\n",
    "        print(\"image loaded....\")\n",
    "        image_arr= preprossing(image)\n",
    "        print(\"predicting ...\")\n",
    "        result = model.predict(image_arr)\n",
    "        print(\"predicted ...\")\n",
    "        ind = np.argmax(result)\n",
    "        prediction = classes[ind]\n",
    "\n",
    "        print(prediction)\n",
    "\n",
    "        return render_template('index.html', prediction=prediction, image = 'static/IMG/', appName = \"Intel Image Classification\")\n",
    "    else:\n",
    "        return render_template('index.html',appName = \"Intel Image Classification\")\n",
    "\n",
    "\n",
    "if __name__ == '__main__':\n",
    "    app.run(debug = False)"
   ]
  },
  {
   "cell_type": "code",
   "execution_count": null,
   "id": "b09ec61a",
   "metadata": {},
   "outputs": [],
   "source": []
  }
 ],
 "metadata": {
  "kernelspec": {
   "display_name": "Python 3 (ipykernel)",
   "language": "python",
   "name": "python3"
  },
  "language_info": {
   "codemirror_mode": {
    "name": "ipython",
    "version": 3
   },
   "file_extension": ".py",
   "mimetype": "text/x-python",
   "name": "python",
   "nbconvert_exporter": "python",
   "pygments_lexer": "ipython3",
   "version": "3.9.16"
  }
 },
 "nbformat": 4,
 "nbformat_minor": 5
}
